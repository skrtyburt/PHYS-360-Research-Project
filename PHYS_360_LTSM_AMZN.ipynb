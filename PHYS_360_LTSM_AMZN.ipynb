{
  "nbformat": 4,
  "nbformat_minor": 0,
  "metadata": {
    "colab": {
      "name": "PHYS 360 LTSM AMZN.ipynb",
      "provenance": [],
      "authorship_tag": "ABX9TyNmCWE7OksyuIMMcm3F1TVe",
      "include_colab_link": true
    },
    "kernelspec": {
      "name": "python3",
      "display_name": "Python 3"
    },
    "language_info": {
      "name": "python"
    }
  },
  "cells": [
    {
      "cell_type": "markdown",
      "metadata": {
        "id": "view-in-github",
        "colab_type": "text"
      },
      "source": [
        "<a href=\"https://colab.research.google.com/github/skrtyburt/PHYS-360-Research-Project/blob/main/PHYS_360_LTSM_AMZN.ipynb\" target=\"_parent\"><img src=\"https://colab.research.google.com/assets/colab-badge.svg\" alt=\"Open In Colab\"/></a>"
      ]
    },
    {
      "cell_type": "markdown",
      "metadata": {
        "id": "tMtYpuv5pL3_"
      },
      "source": [
        "CHARLIE BURTON LSTM MODEL PHYS 360 PROJECT\n",
        "\n",
        "Code adapted from Nouroz Rahman at https://github.com/NourozR"
      ]
    },
    {
      "cell_type": "code",
      "metadata": {
        "id": "BqJEDcS6UviP"
      },
      "source": [
        "# IMPORTING IMPORTANT LIBRARIES\n",
        "import pandas as pd\n",
        "import matplotlib.pyplot as plt\n",
        "import numpy as np \n",
        "import math\n",
        "from sklearn.preprocessing import MinMaxScaler\n",
        "from sklearn.metrics import mean_squared_error\n",
        "from keras.models import Sequential\n",
        "from keras.layers import Dense, Activation\n",
        "from keras.layers import LSTM\n",
        "import sklearn.preprocessing as pp"
      ],
      "execution_count": null,
      "outputs": []
    },
    {
      "cell_type": "code",
      "metadata": {
        "id": "fgqKKvsVbP3Y"
      },
      "source": [
        "# FUNCTION TO CREATE 1D DATA INTO TIME SERIES DATASET\n",
        "def new_dataset(dataset, step_size):\n",
        "\tdata_X, data_Y = [], []\n",
        "\tfor i in range(len(dataset)-step_size-1):\n",
        "\t\ta = dataset[i:(i+step_size), 0]\n",
        "\t\tdata_X.append(a)\n",
        "\t\tdata_Y.append(dataset[i + step_size, 0])\n",
        "\treturn np.array(data_X), np.array(data_Y)\n",
        "\n",
        "# THIS FUNCTION CAN BE USED TO CREATE A TIME SERIES DATASET FROM ANY 1D ARRAY\t"
      ],
      "execution_count": null,
      "outputs": []
    },
    {
      "cell_type": "code",
      "metadata": {
        "id": "NoB7YS2BXdSN"
      },
      "source": [
        "# FOR REPRODUCIBILITY\n",
        "np.random.seed(7)"
      ],
      "execution_count": null,
      "outputs": []
    },
    {
      "cell_type": "code",
      "metadata": {
        "colab": {
          "base_uri": "https://localhost:8080/",
          "height": 204
        },
        "id": "2SwarK9yXeVP",
        "outputId": "f6f3d1c6-65fd-46e9-c73d-d15c235b6e58"
      },
      "source": [
        "url = 'https://raw.githubusercontent.com/skrtyburt/PHYS-360-Research-Project/main/AMZN.csv'\n",
        "dataset = pd.read_csv(url, usecols=[1,2,3,4])\n",
        "dataset = dataset.reindex(index = dataset.index[::-1])\n",
        "dataset.head()\n"
      ],
      "execution_count": null,
      "outputs": [
        {
          "output_type": "execute_result",
          "data": {
            "text/html": [
              "<div>\n",
              "<style scoped>\n",
              "    .dataframe tbody tr th:only-of-type {\n",
              "        vertical-align: middle;\n",
              "    }\n",
              "\n",
              "    .dataframe tbody tr th {\n",
              "        vertical-align: top;\n",
              "    }\n",
              "\n",
              "    .dataframe thead th {\n",
              "        text-align: right;\n",
              "    }\n",
              "</style>\n",
              "<table border=\"1\" class=\"dataframe\">\n",
              "  <thead>\n",
              "    <tr style=\"text-align: right;\">\n",
              "      <th></th>\n",
              "      <th>Open</th>\n",
              "      <th>High</th>\n",
              "      <th>Low</th>\n",
              "      <th>Close</th>\n",
              "    </tr>\n",
              "  </thead>\n",
              "  <tbody>\n",
              "    <tr>\n",
              "      <th>5998</th>\n",
              "      <td>2.437500</td>\n",
              "      <td>2.500000</td>\n",
              "      <td>1.927083</td>\n",
              "      <td>1.958333</td>\n",
              "    </tr>\n",
              "    <tr>\n",
              "      <th>5997</th>\n",
              "      <td>1.968750</td>\n",
              "      <td>1.979167</td>\n",
              "      <td>1.708333</td>\n",
              "      <td>1.729167</td>\n",
              "    </tr>\n",
              "    <tr>\n",
              "      <th>5996</th>\n",
              "      <td>1.760417</td>\n",
              "      <td>1.770833</td>\n",
              "      <td>1.625000</td>\n",
              "      <td>1.708333</td>\n",
              "    </tr>\n",
              "    <tr>\n",
              "      <th>5995</th>\n",
              "      <td>1.729167</td>\n",
              "      <td>1.750000</td>\n",
              "      <td>1.635417</td>\n",
              "      <td>1.635417</td>\n",
              "    </tr>\n",
              "    <tr>\n",
              "      <th>5994</th>\n",
              "      <td>1.635417</td>\n",
              "      <td>1.645833</td>\n",
              "      <td>1.375000</td>\n",
              "      <td>1.427083</td>\n",
              "    </tr>\n",
              "  </tbody>\n",
              "</table>\n",
              "</div>"
            ],
            "text/plain": [
              "          Open      High       Low     Close\n",
              "5998  2.437500  2.500000  1.927083  1.958333\n",
              "5997  1.968750  1.979167  1.708333  1.729167\n",
              "5996  1.760417  1.770833  1.625000  1.708333\n",
              "5995  1.729167  1.750000  1.635417  1.635417\n",
              "5994  1.635417  1.645833  1.375000  1.427083"
            ]
          },
          "metadata": {
            "tags": []
          },
          "execution_count": 4
        }
      ]
    },
    {
      "cell_type": "code",
      "metadata": {
        "colab": {
          "base_uri": "https://localhost:8080/",
          "height": 279
        },
        "id": "D4zPUQHgY__o",
        "outputId": "2938e249-314c-40b5-e3a8-f53c83fd980e"
      },
      "source": [
        "# CREATING OWN INDEX FOR FLEXIBILITY\n",
        "obs = np.arange(1, len(dataset) + 1, 1)\n",
        "\n",
        "# TAKING DIFFERENT INDICATORS FOR PREDICTION\n",
        "OHLC_avg = dataset.mean(axis = 1)\n",
        "HLC_avg = dataset[['High', 'Low', 'Close']].mean(axis = 1)\n",
        "close_val = dataset[['Close']]\n",
        "\n",
        "# PLOTTING ALL INDICATORS IN ONE PLOT\n",
        "#plt.plot(obs, OHLC_avg, 'r', label = 'OHLC avg')\n",
        "#plt.plot(obs, HLC_avg, 'b', label = 'HLC avg')\n",
        "plt.plot(obs, close_val, 'g', label = 'Closing price')\n",
        "plt.legend(loc = 'upper right')\n",
        "plt.xlabel('Day (Where Day 0 Represents IPO)')\n",
        "plt.ylabel('Price Per Stock (USD)')\n",
        "plt.show()"
      ],
      "execution_count": null,
      "outputs": [
        {
          "output_type": "display_data",
          "data": {
            "image/png": "[encoded data removed]",
            "text/plain": [
              "<Figure size 432x288 with 1 Axes>"
            ]
          },
          "metadata": {
            "tags": [],
            "needs_background": "light"
          }
        }
      ]
    },
    {
      "cell_type": "code",
      "metadata": {
        "id": "Av_EMLT2ZSH9"
      },
      "source": [
        "# PREPARATION OF TIME SERIES DATASE\n",
        "OHLC_avg = np.reshape(OHLC_avg.values, (len(OHLC_avg),1)) # 1664\n",
        "scaler = MinMaxScaler(feature_range=(0, 1))\n",
        "OHLC_avg = scaler.fit_transform(OHLC_avg)\n",
        "# TRAIN-TEST SPLIT\n",
        "train_OHLC = int(len(OHLC_avg) * 0.75)\n",
        "test_OHLC = len(OHLC_avg) - train_OHLC\n",
        "train_OHLC, test_OHLC = OHLC_avg[0:train_OHLC,:], OHLC_avg[train_OHLC:len(OHLC_avg),:]"
      ],
      "execution_count": null,
      "outputs": []
    },
    {
      "cell_type": "code",
      "metadata": {
        "id": "PTJ-3Ts1mShP"
      },
      "source": [
        "# TIME-SERIES DATASET (FOR TIME T, VALUES FOR TIME T+1)\n",
        "trainX, trainY = new_dataset(train_OHLC, 1)\n",
        "testX, testY = new_dataset(test_OHLC, 1)\n",
        "\n",
        "# RESHAPING TRAIN AND TEST DATA\n",
        "trainX = np.reshape(trainX, (trainX.shape[0], 1, trainX.shape[1]))\n",
        "testX = np.reshape(testX, (testX.shape[0], 1, testX.shape[1]))\n",
        "step_size = 1"
      ],
      "execution_count": null,
      "outputs": []
    },
    {
      "cell_type": "code",
      "metadata": {
        "colab": {
          "base_uri": "https://localhost:8080/"
        },
        "id": "6GgJ1bk6bWQz",
        "outputId": "556ff108-3145-47f6-a9ef-b90172e692d8"
      },
      "source": [
        "# LSTM MODEL\n",
        "model = Sequential()\n",
        "model.add(LSTM(32, input_shape=(1, step_size), return_sequences = True))\n",
        "model.add(LSTM(16))\n",
        "model.add(Dense(1))\n",
        "model.add(Activation('linear'))\n",
        "\n",
        "# MODEL COMPILING AND TRAINING\n",
        "model.compile(loss='mean_squared_error', optimizer='adam') \n",
        "model.fit(trainX, trainY, epochs=50, batch_size=32, verbose=2)"
      ],
      "execution_count": null,
      "outputs": [
        {
          "output_type": "stream",
          "text": [
            "Epoch 1/50\n",
            "141/141 - 4s - loss: 7.5450e-04\n",
            "Epoch 2/50\n",
            "141/141 - 0s - loss: 9.1602e-05\n",
            "Epoch 3/50\n",
            "141/141 - 0s - loss: 6.4509e-07\n",
            "Epoch 4/50\n",
            "141/141 - 0s - loss: 6.6722e-07\n",
            "Epoch 5/50\n",
            "141/141 - 0s - loss: 6.6606e-07\n",
            "Epoch 6/50\n",
            "141/141 - 0s - loss: 7.0272e-07\n",
            "Epoch 7/50\n",
            "141/141 - 0s - loss: 6.6165e-07\n",
            "Epoch 8/50\n",
            "141/141 - 0s - loss: 6.5808e-07\n",
            "Epoch 9/50\n",
            "141/141 - 0s - loss: 6.7178e-07\n",
            "Epoch 10/50\n",
            "141/141 - 0s - loss: 6.8080e-07\n",
            "Epoch 11/50\n",
            "141/141 - 0s - loss: 8.2352e-07\n",
            "Epoch 12/50\n",
            "141/141 - 0s - loss: 7.3677e-07\n",
            "Epoch 13/50\n",
            "141/141 - 0s - loss: 7.4182e-07\n",
            "Epoch 14/50\n",
            "141/141 - 0s - loss: 8.0153e-07\n",
            "Epoch 15/50\n",
            "141/141 - 0s - loss: 7.7955e-07\n",
            "Epoch 16/50\n",
            "141/141 - 0s - loss: 7.8624e-07\n",
            "Epoch 17/50\n",
            "141/141 - 0s - loss: 7.1262e-07\n",
            "Epoch 18/50\n",
            "141/141 - 0s - loss: 7.6800e-07\n",
            "Epoch 19/50\n",
            "141/141 - 0s - loss: 7.1604e-07\n",
            "Epoch 20/50\n",
            "141/141 - 0s - loss: 8.8269e-07\n",
            "Epoch 21/50\n",
            "141/141 - 0s - loss: 7.2688e-07\n",
            "Epoch 22/50\n",
            "141/141 - 0s - loss: 7.4787e-07\n",
            "Epoch 23/50\n",
            "141/141 - 0s - loss: 8.0501e-07\n",
            "Epoch 24/50\n",
            "141/141 - 0s - loss: 7.5551e-07\n",
            "Epoch 25/50\n",
            "141/141 - 0s - loss: 8.9237e-07\n",
            "Epoch 26/50\n",
            "141/141 - 0s - loss: 8.7017e-07\n",
            "Epoch 27/50\n",
            "141/141 - 0s - loss: 8.1203e-07\n",
            "Epoch 28/50\n",
            "141/141 - 0s - loss: 8.1211e-07\n",
            "Epoch 29/50\n",
            "141/141 - 0s - loss: 8.5903e-07\n",
            "Epoch 30/50\n",
            "141/141 - 0s - loss: 7.0357e-07\n",
            "Epoch 31/50\n",
            "141/141 - 0s - loss: 7.8779e-07\n",
            "Epoch 32/50\n",
            "141/141 - 0s - loss: 8.4272e-07\n",
            "Epoch 33/50\n",
            "141/141 - 0s - loss: 7.5937e-07\n",
            "Epoch 34/50\n",
            "141/141 - 0s - loss: 8.2164e-07\n",
            "Epoch 35/50\n",
            "141/141 - 0s - loss: 7.6018e-07\n",
            "Epoch 36/50\n",
            "141/141 - 0s - loss: 7.2682e-07\n",
            "Epoch 37/50\n",
            "141/141 - 0s - loss: 8.4597e-07\n",
            "Epoch 38/50\n",
            "141/141 - 0s - loss: 7.8985e-07\n",
            "Epoch 39/50\n",
            "141/141 - 0s - loss: 7.6790e-07\n",
            "Epoch 40/50\n",
            "141/141 - 0s - loss: 8.4340e-07\n",
            "Epoch 41/50\n",
            "141/141 - 0s - loss: 1.0565e-06\n",
            "Epoch 42/50\n",
            "141/141 - 0s - loss: 7.3032e-07\n",
            "Epoch 43/50\n",
            "141/141 - 0s - loss: 7.7841e-07\n",
            "Epoch 44/50\n",
            "141/141 - 0s - loss: 7.6044e-07\n",
            "Epoch 45/50\n",
            "141/141 - 0s - loss: 7.7887e-07\n",
            "Epoch 46/50\n",
            "141/141 - 0s - loss: 7.5674e-07\n",
            "Epoch 47/50\n",
            "141/141 - 0s - loss: 9.1120e-07\n",
            "Epoch 48/50\n",
            "141/141 - 0s - loss: 7.8563e-07\n",
            "Epoch 49/50\n",
            "141/141 - 0s - loss: 7.5916e-07\n",
            "Epoch 50/50\n",
            "141/141 - 0s - loss: 7.2163e-07\n"
          ],
          "name": "stdout"
        },
        {
          "output_type": "execute_result",
          "data": {
            "text/plain": [
              "<tensorflow.python.keras.callbacks.History at 0x7f9399a90250>"
            ]
          },
          "metadata": {
            "tags": []
          },
          "execution_count": 8
        }
      ]
    },
    {
      "cell_type": "code",
      "metadata": {
        "id": "SeVQukE1blXx"
      },
      "source": [
        "# PREDICTION\n",
        "trainPredict = model.predict(trainX)\n",
        "testPredict = model.predict(testX)\n",
        "\n",
        "# DE-NORMALIZING FOR PLOTTING\n",
        "trainPredict = scaler.inverse_transform(trainPredict)\n",
        "trainY = scaler.inverse_transform([trainY])\n",
        "testPredict = scaler.inverse_transform(testPredict)\n",
        "testY = scaler.inverse_transform([testY])\n"
      ],
      "execution_count": null,
      "outputs": []
    },
    {
      "cell_type": "code",
      "metadata": {
        "colab": {
          "base_uri": "https://localhost:8080/",
          "height": 347
        },
        "id": "KOWnVuygoL4h",
        "outputId": "e8ed2427-d0ea-473d-f75a-0ff1b80e9fe5"
      },
      "source": [
        "# TRAINING RMSE\n",
        "trainScore = math.sqrt(mean_squared_error(trainY[0], trainPredict[:,0]))\n",
        "print('Train RMSE: %.2f' % (trainScore))\n",
        "\n",
        "# TEST RMSE\n",
        "testScore = math.sqrt(mean_squared_error(testY[0], testPredict[:,0]))\n",
        "print('Test RMSE: %.2f' % (testScore))\n",
        "\n",
        "# CREATING SIMILAR DATASET TO PLOT TRAINING PREDICTIONS\n",
        "trainPredictPlot = np.empty_like(OHLC_avg)\n",
        "trainPredictPlot[:, :] = np.nan\n",
        "trainPredictPlot[step_size:len(trainPredict)+step_size, :] = trainPredict\n",
        "\n",
        "# CREATING SIMILAR DATASSET TO PLOT TEST PREDICTIONS\n",
        "testPredictPlot = np.empty_like(OHLC_avg)\n",
        "testPredictPlot[:, :] = np.nan\n",
        "testPredictPlot[len(trainPredict)+(step_size*2)+1:len(OHLC_avg)-1, :] = testPredict\n",
        "\n",
        "# DE-NORMALIZING MAIN DATASET \n",
        "OHLC_avg = scaler.inverse_transform(OHLC_avg)\n",
        "\n",
        "# PLOT OF MAIN OHLC VALUES, TRAIN PREDICTIONS AND TEST PREDICTIONS\n",
        "plt.plot(OHLC_avg, 'g', label = 'original dataset')\n",
        "plt.plot(trainPredictPlot, 'r', label = 'training set')\n",
        "plt.plot(testPredictPlot, 'b', label = 'predicted stock price/test set')\n",
        "plt.legend(loc = 'upper right')\n",
        "plt.xlabel('Time in Days')\n",
        "plt.ylabel('OHLC Value of Amazon Stocks (USD)')\n",
        "plt.show()\n",
        "\n",
        "# PREDICT FUTURE VALUES\n",
        "last_val = testPredict[-1]\n",
        "last_val_scaled = last_val/last_val\n",
        "next_val = model.predict(np.reshape(last_val_scaled, (1,1,1)))\n",
        "print(\"Last Day Value:\", (last_val))\n",
        "print(\"Next Day Value:\", (last_val*next_val))\n",
        "#print \"Last Day Value:\".format(card)\n",
        "#print \"Next Day Value:\".format(card)\n",
        "\n",
        "# print np.append(last_val, next_val)"
      ],
      "execution_count": null,
      "outputs": [
        {
          "output_type": "stream",
          "text": [
            "Train RMSE: 3.33\n",
            "Test RMSE: 111.28\n"
          ],
          "name": "stdout"
        },
        {
          "output_type": "display_data",
          "data": {
            "image/png": "[encoded data removed]",
            "text/plain": [
              "<Figure size 432x288 with 1 Axes>"
            ]
          },
          "metadata": {
            "tags": [],
            "needs_background": "light"
          }
        },
        {
          "output_type": "stream",
          "text": [
            "Last Day Value: [2808.2083]\n",
            "Next Day Value: [[2492.8113]]\n"
          ],
          "name": "stdout"
        }
      ]
    }
  ]
}